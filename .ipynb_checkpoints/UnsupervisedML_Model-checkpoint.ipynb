{
 "cells": [
  {
   "cell_type": "markdown",
   "id": "d3647a33",
   "metadata": {},
   "source": [
    "# Predicting Myopia"
   ]
  },
  {
   "cell_type": "code",
   "execution_count": null,
   "id": "c6a4f272",
   "metadata": {},
   "outputs": [],
   "source": [
    "# Dependencies\n",
    "import pandas as pd\n",
    "from pathlib import Path\n",
    "from sklearn.preprocessing import StandardScaler\n",
    "from sklearn.decomposition import PCA\n",
    "from sklearn.cluster import KMeans\n",
    "from sklearn.manifold import TSNE\n",
    "import matplotlib.pyplot as plt"
   ]
  },
  {
   "cell_type": "code",
   "execution_count": null,
   "id": "a933d849",
   "metadata": {
    "scrolled": true
   },
   "outputs": [],
   "source": [
    "# Import the Data and show dataframe\n",
    "file_path = Path(\"C:/Users/anico/Desktop/boot_camp_work/Challenges/UnsupervisedML/unsupervised-machine-learning-challenge/myopia.csv\")\n",
    "df = pd.read_csv(file_path)\n",
    "df.head(5)"
   ]
  },
  {
   "cell_type": "markdown",
   "id": "08cef281",
   "metadata": {},
   "source": [
    "## Prepare the data\n",
    "* Remove \"MYOPIC\" column\n",
    "* Standardize dataset so that columns that contain larger values do not influence the outcome"
   ]
  },
  {
   "cell_type": "code",
   "execution_count": null,
   "id": "2da3b1b3",
   "metadata": {},
   "outputs": [],
   "source": [
    "#remove MYOPIC column\n",
    "new_df = df.drop([\"MYOPIC\"], axis='columns')\n",
    "new_df.head(5)"
   ]
  },
  {
   "cell_type": "code",
   "execution_count": null,
   "id": "bafd9841",
   "metadata": {},
   "outputs": [],
   "source": [
    "# Standardize data using scaler\n",
    "scaler = StandardScaler()\n",
    "scaled_data = scaler.fit_transform(new_df)"
   ]
  },
  {
   "cell_type": "code",
   "execution_count": null,
   "id": "e872234d",
   "metadata": {},
   "outputs": [],
   "source": [
    "# Name resulting DataFrame X\n",
    "X = scaled_data\n",
    "X"
   ]
  },
  {
   "cell_type": "markdown",
   "id": "620818a2",
   "metadata": {},
   "source": [
    "## Apply Dimensionality Reduction\n",
    "\n",
    "Rather than specify the number of principal components when you instantiate the PCA model, state the desired explained variance. For example, say that a dataset has 100 features. Using PCA(n_components=0.99) creates a model that will preserve approximately 99% of the explained variance, whether that means reducing the dataset to 80 principal components or 3.\n",
    "\n",
    "For this assignment, preserve 90% of the explained variance in dimensionality reduction.\n"
   ]
  },
  {
   "cell_type": "code",
   "execution_count": null,
   "id": "4fc5497a",
   "metadata": {},
   "outputs": [],
   "source": [
    "# Perform dimensionality reduction with PCA. \n",
    "# How did the number of features change?\n",
    "\n",
    "#initialize PCA model\n",
    "pca = PCA(n_components=0.90)\n",
    "\n",
    "myopia_pca = pca.fit_transform(X)\n",
    "\n",
    "#transfrom pca data into a dataframe\n",
    "df_myopia_pca = pd.DataFrame(\n",
    "    data=myopia_pca)\n",
    "df_myopia_pca.head()"
   ]
  },
  {
   "cell_type": "markdown",
   "id": "ce4dac21",
   "metadata": {},
   "source": [
    "After performing dimensionality reduction with PCA (and preserving 90% of the explained variance), the number of features went from 14 to 10."
   ]
  },
  {
   "cell_type": "code",
   "execution_count": null,
   "id": "2c97ba10",
   "metadata": {},
   "outputs": [],
   "source": [
    "# Further reduce the dataset dimensions with t-SNE and visually inspect the results\n",
    "# run t-SNE on the principal components (the output of the PCA transformation)\n",
    "tsne = TSNE(learning_rate=250)\n",
    "tsne_features = tsne.fit_transform(myopia_pca)"
   ]
  },
  {
   "cell_type": "code",
   "execution_count": null,
   "id": "7a5d8af2",
   "metadata": {},
   "outputs": [],
   "source": [
    "tsne_features.shape"
   ]
  },
  {
   "cell_type": "code",
   "execution_count": null,
   "id": "e6f6d477",
   "metadata": {},
   "outputs": [],
   "source": [
    "# Create a scatter plot of the t-SNE output. \n",
    "# Are there disctint clusters?\n",
    "# Plot the results\n",
    "plt.scatter(tsne_features[:,0], tsne_features[:,1])\n",
    "plt.show()\n",
    "\n",
    "plt.savefig(\"Output/Fig01.png\")"
   ]
  },
  {
   "cell_type": "markdown",
   "id": "bfc470f7",
   "metadata": {},
   "source": [
    "No, there are no distinct clusters."
   ]
  },
  {
   "cell_type": "markdown",
   "id": "cbf00024",
   "metadata": {},
   "source": [
    "## Perform a Cluster Analysis with K-means\n",
    "Create an elbow plot to identify the best number of clusters"
   ]
  },
  {
   "cell_type": "code",
   "execution_count": null,
   "id": "dd9000b2",
   "metadata": {},
   "outputs": [],
   "source": [
    "# use a for loop to determine the inertia for each k between 1-10\n",
    "# If possible, determine where the elbow of the plor is, and a which value of k it appears\n",
    "\n",
    "# Identify the best number of clusters using the elbow curve\n",
    "inertia = []\n",
    "\n",
    "k = list(range(1,11))\n",
    "\n",
    "\n",
    "# Looking for the best k\n",
    "for i in k:\n",
    "    km = KMeans(n_clusters=i, random_state=0)\n",
    "    km.fit(df_myopia_pca)\n",
    "    inertia.append(km.inertia_)\n",
    "\n",
    "# Define a DataFrame to plot the Elbow Curve using hvPlot\n",
    "elbow_data = {\"k\": k, \"inertia\": inertia}\n",
    "df_elbow = pd.DataFrame(elbow_data)\n",
    "\n",
    "plt.plot(df_elbow['k'], df_elbow['inertia'])\n",
    "plt.xticks(range(1,11))\n",
    "plt.xlabel('Number of clusters')\n",
    "plt.ylabel('Inertia')\n",
    "\n",
    "\n",
    "plt.show()\n",
    "\n",
    "plt.savefig(\"Output/Fig02.png\")"
   ]
  },
  {
   "cell_type": "markdown",
   "id": "884ff704",
   "metadata": {},
   "source": [
    "## Recommendation\n",
    "State a brief conclusion on wheter patients can be clustered together, how many clusters, and support it with findings"
   ]
  },
  {
   "cell_type": "markdown",
   "id": "881ec16c",
   "metadata": {},
   "source": [
    "Based on the models, it does not appear that patients can be clustered apporpriately to better prediect myopia. After performing the PCA here are still a large numer of features that contribute to the variance. Additionally, after running t-SNE on the prinicpal components there are no clear clusters shown in the data. Finally, after running the K-means model, the plot does not show a clear elbow to point out if any groups exist in the data."
   ]
  }
 ],
 "metadata": {
  "kernelspec": {
   "display_name": "Python 3 (ipykernel)",
   "language": "python",
   "name": "python3"
  },
  "language_info": {
   "codemirror_mode": {
    "name": "ipython",
    "version": 3
   },
   "file_extension": ".py",
   "mimetype": "text/x-python",
   "name": "python",
   "nbconvert_exporter": "python",
   "pygments_lexer": "ipython3",
   "version": "3.7.7"
  }
 },
 "nbformat": 4,
 "nbformat_minor": 5
}
